{
 "cells": [
  {
   "cell_type": "code",
   "execution_count": 1,
   "metadata": {},
   "outputs": [
    {
     "name": "stderr",
     "output_type": "stream",
     "text": [
      "C:\\Users\\TEMP.MYCOMPUTER.004\\Anaconda3\\lib\\site-packages\\statsmodels\\tools\\_testing.py:19: FutureWarning: pandas.util.testing is deprecated. Use the functions in the public API at pandas.testing instead.\n",
      "  import pandas.util.testing as tm\n"
     ]
    }
   ],
   "source": [
    "import numpy as np\n",
    "import pandas as pd\n",
    "import matplotlib.pyplot as plt\n",
    "import seaborn as sns\n",
    "np.random.seed(0)"
   ]
  },
  {
   "cell_type": "code",
   "execution_count": 2,
   "metadata": {},
   "outputs": [
    {
     "data": {
      "text/html": [
       "<div>\n",
       "<style scoped>\n",
       "    .dataframe tbody tr th:only-of-type {\n",
       "        vertical-align: middle;\n",
       "    }\n",
       "\n",
       "    .dataframe tbody tr th {\n",
       "        vertical-align: top;\n",
       "    }\n",
       "\n",
       "    .dataframe thead th {\n",
       "        text-align: right;\n",
       "    }\n",
       "</style>\n",
       "<table border=\"1\" class=\"dataframe\">\n",
       "  <thead>\n",
       "    <tr style=\"text-align: right;\">\n",
       "      <th></th>\n",
       "      <th>fixed acidity</th>\n",
       "      <th>volatile acidity</th>\n",
       "      <th>citric acid</th>\n",
       "      <th>residual sugar</th>\n",
       "      <th>chlorides</th>\n",
       "      <th>free sulfur dioxide</th>\n",
       "      <th>total sulfur dioxide</th>\n",
       "      <th>density</th>\n",
       "      <th>pH</th>\n",
       "      <th>sulphates</th>\n",
       "      <th>alcohol</th>\n",
       "      <th>quality</th>\n",
       "    </tr>\n",
       "  </thead>\n",
       "  <tbody>\n",
       "    <tr>\n",
       "      <th>0</th>\n",
       "      <td>7.4</td>\n",
       "      <td>0.70</td>\n",
       "      <td>0.00</td>\n",
       "      <td>1.9</td>\n",
       "      <td>0.076</td>\n",
       "      <td>11.0</td>\n",
       "      <td>34.0</td>\n",
       "      <td>0.9978</td>\n",
       "      <td>3.51</td>\n",
       "      <td>0.56</td>\n",
       "      <td>9.4</td>\n",
       "      <td>5</td>\n",
       "    </tr>\n",
       "    <tr>\n",
       "      <th>1</th>\n",
       "      <td>7.8</td>\n",
       "      <td>0.88</td>\n",
       "      <td>0.00</td>\n",
       "      <td>2.6</td>\n",
       "      <td>0.098</td>\n",
       "      <td>25.0</td>\n",
       "      <td>67.0</td>\n",
       "      <td>0.9968</td>\n",
       "      <td>3.20</td>\n",
       "      <td>0.68</td>\n",
       "      <td>9.8</td>\n",
       "      <td>5</td>\n",
       "    </tr>\n",
       "    <tr>\n",
       "      <th>2</th>\n",
       "      <td>7.8</td>\n",
       "      <td>0.76</td>\n",
       "      <td>0.04</td>\n",
       "      <td>2.3</td>\n",
       "      <td>0.092</td>\n",
       "      <td>15.0</td>\n",
       "      <td>54.0</td>\n",
       "      <td>0.9970</td>\n",
       "      <td>3.26</td>\n",
       "      <td>0.65</td>\n",
       "      <td>9.8</td>\n",
       "      <td>5</td>\n",
       "    </tr>\n",
       "    <tr>\n",
       "      <th>3</th>\n",
       "      <td>11.2</td>\n",
       "      <td>0.28</td>\n",
       "      <td>0.56</td>\n",
       "      <td>1.9</td>\n",
       "      <td>0.075</td>\n",
       "      <td>17.0</td>\n",
       "      <td>60.0</td>\n",
       "      <td>0.9980</td>\n",
       "      <td>3.16</td>\n",
       "      <td>0.58</td>\n",
       "      <td>9.8</td>\n",
       "      <td>6</td>\n",
       "    </tr>\n",
       "    <tr>\n",
       "      <th>4</th>\n",
       "      <td>7.4</td>\n",
       "      <td>0.70</td>\n",
       "      <td>0.00</td>\n",
       "      <td>1.9</td>\n",
       "      <td>0.076</td>\n",
       "      <td>11.0</td>\n",
       "      <td>34.0</td>\n",
       "      <td>0.9978</td>\n",
       "      <td>3.51</td>\n",
       "      <td>0.56</td>\n",
       "      <td>9.4</td>\n",
       "      <td>5</td>\n",
       "    </tr>\n",
       "  </tbody>\n",
       "</table>\n",
       "</div>"
      ],
      "text/plain": [
       "   fixed acidity  volatile acidity  citric acid  residual sugar  chlorides  \\\n",
       "0            7.4              0.70         0.00             1.9      0.076   \n",
       "1            7.8              0.88         0.00             2.6      0.098   \n",
       "2            7.8              0.76         0.04             2.3      0.092   \n",
       "3           11.2              0.28         0.56             1.9      0.075   \n",
       "4            7.4              0.70         0.00             1.9      0.076   \n",
       "\n",
       "   free sulfur dioxide  total sulfur dioxide  density    pH  sulphates  \\\n",
       "0                 11.0                  34.0   0.9978  3.51       0.56   \n",
       "1                 25.0                  67.0   0.9968  3.20       0.68   \n",
       "2                 15.0                  54.0   0.9970  3.26       0.65   \n",
       "3                 17.0                  60.0   0.9980  3.16       0.58   \n",
       "4                 11.0                  34.0   0.9978  3.51       0.56   \n",
       "\n",
       "   alcohol  quality  \n",
       "0      9.4        5  \n",
       "1      9.8        5  \n",
       "2      9.8        5  \n",
       "3      9.8        6  \n",
       "4      9.4        5  "
      ]
     },
     "execution_count": 2,
     "metadata": {},
     "output_type": "execute_result"
    }
   ],
   "source": [
    "data = pd.read_csv(\"data/Wine-Quality-Dataset-master/winequality-red.csv\", sep = \";\")\n",
    "data.head()"
   ]
  },
  {
   "cell_type": "code",
   "execution_count": 3,
   "metadata": {},
   "outputs": [
    {
     "data": {
      "text/plain": [
       "Int64Index([3, 4, 5, 6, 7, 8], dtype='int64')"
      ]
     },
     "execution_count": 3,
     "metadata": {},
     "output_type": "execute_result"
    }
   ],
   "source": [
    "quality_series = data['quality'].value_counts(sort=False)\n",
    "quality_series.index"
   ]
  },
  {
   "cell_type": "code",
   "execution_count": 4,
   "metadata": {},
   "outputs": [
    {
     "data": {
      "text/plain": [
       "<matplotlib.axes._subplots.AxesSubplot at 0x287077954c8>"
      ]
     },
     "execution_count": 4,
     "metadata": {},
     "output_type": "execute_result"
    },
    {
     "data": {
      "image/png": "[encoded data removed]",
      "text/plain": [
       "<Figure size 432x288 with 1 Axes>"
      ]
     },
     "metadata": {
      "needs_background": "light"
     },
     "output_type": "display_data"
    }
   ],
   "source": [
    "quality_series.plot.bar()"
   ]
  },
  {
   "cell_type": "code",
   "execution_count": 5,
   "metadata": {},
   "outputs": [
    {
     "data": {
      "text/plain": [
       "<matplotlib.axes._subplots.AxesSubplot at 0x2871964a088>"
      ]
     },
     "execution_count": 5,
     "metadata": {},
     "output_type": "execute_result"
    },
    {
     "data": {
      "image/png": "[encoded data removed]",
      "text/plain": [
       "<Figure size 432x288 with 1 Axes>"
      ]
     },
     "metadata": {
      "needs_background": "light"
     },
     "output_type": "display_data"
    }
   ],
   "source": [
    "quality_series_sorted = data['quality'].value_counts()\n",
    "quality_series_sorted.plot.bar()"
   ]
  },
  {
   "cell_type": "code",
   "execution_count": 6,
   "metadata": {},
   "outputs": [
    {
     "data": {
      "image/png": "[encoded data removed]",
      "text/plain": [
       "<Figure size 504x288 with 1 Axes>"
      ]
     },
     "metadata": {
      "needs_background": "light"
     },
     "output_type": "display_data"
    }
   ],
   "source": [
    "fig, ax = plt.subplots(figsize=(7, 4))\n",
    "ax.bar(quality_series.index,quality_series.values, width=0.7)\n",
    "ax.set_xlabel(\"quality\")\n",
    "ax.set_ylabel(\"counts\")\n",
    "ax.set_title(\"counts of quality\");"
   ]
  },
  {
   "cell_type": "code",
   "execution_count": null,
   "metadata": {},
   "outputs": [],
   "source": []
  },
  {
   "cell_type": "code",
   "execution_count": null,
   "metadata": {},
   "outputs": [],
   "source": []
  },
  {
   "cell_type": "code",
   "execution_count": null,
   "metadata": {},
   "outputs": [],
   "source": []
  },
  {
   "cell_type": "code",
   "execution_count": 2,
   "metadata": {},
   "outputs": [
    {
     "data": {
      "text/html": [
       "<div>\n",
       "<style scoped>\n",
       "    .dataframe tbody tr th:only-of-type {\n",
       "        vertical-align: middle;\n",
       "    }\n",
       "\n",
       "    .dataframe tbody tr th {\n",
       "        vertical-align: top;\n",
       "    }\n",
       "\n",
       "    .dataframe thead th {\n",
       "        text-align: right;\n",
       "    }\n",
       "</style>\n",
       "<table border=\"1\" class=\"dataframe\">\n",
       "  <thead>\n",
       "    <tr style=\"text-align: right;\">\n",
       "      <th></th>\n",
       "      <th>C0</th>\n",
       "      <th>C1</th>\n",
       "      <th>C2</th>\n",
       "      <th>C3</th>\n",
       "      <th>C4</th>\n",
       "      <th>C5</th>\n",
       "      <th>C6</th>\n",
       "      <th>C7</th>\n",
       "      <th>C8</th>\n",
       "      <th>C9</th>\n",
       "    </tr>\n",
       "  </thead>\n",
       "  <tbody>\n",
       "    <tr>\n",
       "      <th>0</th>\n",
       "      <td>44</td>\n",
       "      <td>47</td>\n",
       "      <td>64</td>\n",
       "      <td>67</td>\n",
       "      <td>67</td>\n",
       "      <td>9</td>\n",
       "      <td>83</td>\n",
       "      <td>21</td>\n",
       "      <td>36</td>\n",
       "      <td>87</td>\n",
       "    </tr>\n",
       "    <tr>\n",
       "      <th>1</th>\n",
       "      <td>70</td>\n",
       "      <td>88</td>\n",
       "      <td>88</td>\n",
       "      <td>12</td>\n",
       "      <td>58</td>\n",
       "      <td>65</td>\n",
       "      <td>39</td>\n",
       "      <td>87</td>\n",
       "      <td>46</td>\n",
       "      <td>88</td>\n",
       "    </tr>\n",
       "    <tr>\n",
       "      <th>2</th>\n",
       "      <td>81</td>\n",
       "      <td>37</td>\n",
       "      <td>25</td>\n",
       "      <td>77</td>\n",
       "      <td>72</td>\n",
       "      <td>9</td>\n",
       "      <td>20</td>\n",
       "      <td>80</td>\n",
       "      <td>69</td>\n",
       "      <td>79</td>\n",
       "    </tr>\n",
       "    <tr>\n",
       "      <th>3</th>\n",
       "      <td>47</td>\n",
       "      <td>64</td>\n",
       "      <td>82</td>\n",
       "      <td>99</td>\n",
       "      <td>88</td>\n",
       "      <td>49</td>\n",
       "      <td>29</td>\n",
       "      <td>19</td>\n",
       "      <td>19</td>\n",
       "      <td>14</td>\n",
       "    </tr>\n",
       "    <tr>\n",
       "      <th>4</th>\n",
       "      <td>39</td>\n",
       "      <td>32</td>\n",
       "      <td>65</td>\n",
       "      <td>9</td>\n",
       "      <td>57</td>\n",
       "      <td>32</td>\n",
       "      <td>31</td>\n",
       "      <td>74</td>\n",
       "      <td>23</td>\n",
       "      <td>35</td>\n",
       "    </tr>\n",
       "  </tbody>\n",
       "</table>\n",
       "</div>"
      ],
      "text/plain": [
       "   C0  C1  C2  C3  C4  C5  C6  C7  C8  C9\n",
       "0  44  47  64  67  67   9  83  21  36  87\n",
       "1  70  88  88  12  58  65  39  87  46  88\n",
       "2  81  37  25  77  72   9  20  80  69  79\n",
       "3  47  64  82  99  88  49  29  19  19  14\n",
       "4  39  32  65   9  57  32  31  74  23  35"
      ]
     },
     "execution_count": 2,
     "metadata": {},
     "output_type": "execute_result"
    }
   ],
   "source": [
    "sample_df = pd.DataFrame()\n",
    "sample_data = np.random.randint(0, 100, size=(5, 10))\n",
    "columns = [\"C\"+str(i) for i in range(10)]\n",
    "sample_df = pd.DataFrame(data=sample_data, columns=columns)\n",
    "sample_df"
   ]
  },
  {
   "cell_type": "code",
   "execution_count": 4,
   "metadata": {},
   "outputs": [
    {
     "data": {
      "text/html": [
       "<div>\n",
       "<style scoped>\n",
       "    .dataframe tbody tr th:only-of-type {\n",
       "        vertical-align: middle;\n",
       "    }\n",
       "\n",
       "    .dataframe tbody tr th {\n",
       "        vertical-align: top;\n",
       "    }\n",
       "\n",
       "    .dataframe thead th {\n",
       "        text-align: right;\n",
       "    }\n",
       "</style>\n",
       "<table border=\"1\" class=\"dataframe\">\n",
       "  <thead>\n",
       "    <tr style=\"text-align: right;\">\n",
       "      <th></th>\n",
       "      <th>C0</th>\n",
       "      <th>C1</th>\n",
       "      <th>C2</th>\n",
       "      <th>C3</th>\n",
       "      <th>C4</th>\n",
       "      <th>C5</th>\n",
       "      <th>C6</th>\n",
       "      <th>C7</th>\n",
       "      <th>C8</th>\n",
       "      <th>C9</th>\n",
       "    </tr>\n",
       "  </thead>\n",
       "  <tbody>\n",
       "    <tr>\n",
       "      <th>A</th>\n",
       "      <td>15.658363</td>\n",
       "      <td>17.537313</td>\n",
       "      <td>19.753086</td>\n",
       "      <td>25.378788</td>\n",
       "      <td>19.590643</td>\n",
       "      <td>5.487805</td>\n",
       "      <td>41.089109</td>\n",
       "      <td>7.473310</td>\n",
       "      <td>18.652850</td>\n",
       "      <td>28.712871</td>\n",
       "    </tr>\n",
       "    <tr>\n",
       "      <th>B</th>\n",
       "      <td>24.911032</td>\n",
       "      <td>32.835821</td>\n",
       "      <td>27.160494</td>\n",
       "      <td>4.545455</td>\n",
       "      <td>16.959064</td>\n",
       "      <td>39.634146</td>\n",
       "      <td>19.306931</td>\n",
       "      <td>30.960854</td>\n",
       "      <td>23.834197</td>\n",
       "      <td>29.042904</td>\n",
       "    </tr>\n",
       "    <tr>\n",
       "      <th>C</th>\n",
       "      <td>28.825623</td>\n",
       "      <td>13.805970</td>\n",
       "      <td>7.716049</td>\n",
       "      <td>29.166667</td>\n",
       "      <td>21.052632</td>\n",
       "      <td>5.487805</td>\n",
       "      <td>9.900990</td>\n",
       "      <td>28.469751</td>\n",
       "      <td>35.751295</td>\n",
       "      <td>26.072607</td>\n",
       "    </tr>\n",
       "    <tr>\n",
       "      <th>D</th>\n",
       "      <td>16.725979</td>\n",
       "      <td>23.880597</td>\n",
       "      <td>25.308642</td>\n",
       "      <td>37.500000</td>\n",
       "      <td>25.730994</td>\n",
       "      <td>29.878049</td>\n",
       "      <td>14.356436</td>\n",
       "      <td>6.761566</td>\n",
       "      <td>9.844560</td>\n",
       "      <td>4.620462</td>\n",
       "    </tr>\n",
       "    <tr>\n",
       "      <th>E</th>\n",
       "      <td>13.879004</td>\n",
       "      <td>11.940299</td>\n",
       "      <td>20.061728</td>\n",
       "      <td>3.409091</td>\n",
       "      <td>16.666667</td>\n",
       "      <td>19.512195</td>\n",
       "      <td>15.346535</td>\n",
       "      <td>26.334520</td>\n",
       "      <td>11.917098</td>\n",
       "      <td>11.551155</td>\n",
       "    </tr>\n",
       "  </tbody>\n",
       "</table>\n",
       "</div>"
      ],
      "text/plain": [
       "          C0         C1         C2         C3         C4         C5  \\\n",
       "A  15.658363  17.537313  19.753086  25.378788  19.590643   5.487805   \n",
       "B  24.911032  32.835821  27.160494   4.545455  16.959064  39.634146   \n",
       "C  28.825623  13.805970   7.716049  29.166667  21.052632   5.487805   \n",
       "D  16.725979  23.880597  25.308642  37.500000  25.730994  29.878049   \n",
       "E  13.879004  11.940299  20.061728   3.409091  16.666667  19.512195   \n",
       "\n",
       "          C6         C7         C8         C9  \n",
       "A  41.089109   7.473310  18.652850  28.712871  \n",
       "B  19.306931  30.960854  23.834197  29.042904  \n",
       "C   9.900990  28.469751  35.751295  26.072607  \n",
       "D  14.356436   6.761566   9.844560   4.620462  \n",
       "E  15.346535  26.334520  11.917098  11.551155  "
      ]
     },
     "execution_count": 4,
     "metadata": {},
     "output_type": "execute_result"
    }
   ],
   "source": [
    "for each_col in sample_df.columns.tolist():\n",
    "    sample_df[each_col] = 100 * sample_df[each_col] / sample_df[each_col].sum()\n",
    "    sample_df.index = [val for val in \"ABCDE\"]\n",
    "sample_df.head()"
   ]
  },
  {
   "cell_type": "code",
   "execution_count": 5,
   "metadata": {},
   "outputs": [
    {
     "data": {
      "image/png": "[encoded data removed]",
      "text/plain": [
       "<Figure size 432x288 with 1 Axes>"
      ]
     },
     "metadata": {
      "needs_background": "light"
     },
     "output_type": "display_data"
    }
   ],
   "source": [
    "fig, ax = plt.subplots()\n",
    "data_points = np.arange(len(sample_df.columns))\n",
    "bottom_data = pd.Series(np.zeros(len(sample_df.columns)), index=sample_df.columns.tolist())\n",
    "for i in range(len(sample_df.index)):\n",
    "    ax.bar(data_points, sample_df.iloc[i], bottom=bottom_data)\n",
    "    bottom_data += sample_df.iloc[i]\n",
    "    ax.set_xticks(data_points)\n",
    "    ax.set_xticklabels(sample_df.columns);"
   ]
  },
  {
   "cell_type": "code",
   "execution_count": 6,
   "metadata": {},
   "outputs": [
    {
     "data": {
      "text/html": [
       "<div>\n",
       "<style scoped>\n",
       "    .dataframe tbody tr th:only-of-type {\n",
       "        vertical-align: middle;\n",
       "    }\n",
       "\n",
       "    .dataframe tbody tr th {\n",
       "        vertical-align: top;\n",
       "    }\n",
       "\n",
       "    .dataframe thead th {\n",
       "        text-align: right;\n",
       "    }\n",
       "</style>\n",
       "<table border=\"1\" class=\"dataframe\">\n",
       "  <thead>\n",
       "    <tr style=\"text-align: right;\">\n",
       "      <th></th>\n",
       "      <th>C0</th>\n",
       "      <th>C1</th>\n",
       "      <th>C2</th>\n",
       "      <th>C3</th>\n",
       "      <th>C4</th>\n",
       "      <th>C5</th>\n",
       "      <th>C6</th>\n",
       "      <th>C7</th>\n",
       "      <th>C8</th>\n",
       "      <th>C9</th>\n",
       "    </tr>\n",
       "  </thead>\n",
       "  <tbody>\n",
       "    <tr>\n",
       "      <th>E</th>\n",
       "      <td>13.879004</td>\n",
       "      <td>11.940299</td>\n",
       "      <td>20.061728</td>\n",
       "      <td>3.409091</td>\n",
       "      <td>16.666667</td>\n",
       "      <td>19.512195</td>\n",
       "      <td>15.346535</td>\n",
       "      <td>26.334520</td>\n",
       "      <td>11.917098</td>\n",
       "      <td>11.551155</td>\n",
       "    </tr>\n",
       "    <tr>\n",
       "      <th>A</th>\n",
       "      <td>15.658363</td>\n",
       "      <td>17.537313</td>\n",
       "      <td>19.753086</td>\n",
       "      <td>25.378788</td>\n",
       "      <td>19.590643</td>\n",
       "      <td>5.487805</td>\n",
       "      <td>41.089109</td>\n",
       "      <td>7.473310</td>\n",
       "      <td>18.652850</td>\n",
       "      <td>28.712871</td>\n",
       "    </tr>\n",
       "    <tr>\n",
       "      <th>D</th>\n",
       "      <td>16.725979</td>\n",
       "      <td>23.880597</td>\n",
       "      <td>25.308642</td>\n",
       "      <td>37.500000</td>\n",
       "      <td>25.730994</td>\n",
       "      <td>29.878049</td>\n",
       "      <td>14.356436</td>\n",
       "      <td>6.761566</td>\n",
       "      <td>9.844560</td>\n",
       "      <td>4.620462</td>\n",
       "    </tr>\n",
       "    <tr>\n",
       "      <th>B</th>\n",
       "      <td>24.911032</td>\n",
       "      <td>32.835821</td>\n",
       "      <td>27.160494</td>\n",
       "      <td>4.545455</td>\n",
       "      <td>16.959064</td>\n",
       "      <td>39.634146</td>\n",
       "      <td>19.306931</td>\n",
       "      <td>30.960854</td>\n",
       "      <td>23.834197</td>\n",
       "      <td>29.042904</td>\n",
       "    </tr>\n",
       "    <tr>\n",
       "      <th>C</th>\n",
       "      <td>28.825623</td>\n",
       "      <td>13.805970</td>\n",
       "      <td>7.716049</td>\n",
       "      <td>29.166667</td>\n",
       "      <td>21.052632</td>\n",
       "      <td>5.487805</td>\n",
       "      <td>9.900990</td>\n",
       "      <td>28.469751</td>\n",
       "      <td>35.751295</td>\n",
       "      <td>26.072607</td>\n",
       "    </tr>\n",
       "  </tbody>\n",
       "</table>\n",
       "</div>"
      ],
      "text/plain": [
       "          C0         C1         C2         C3         C4         C5  \\\n",
       "E  13.879004  11.940299  20.061728   3.409091  16.666667  19.512195   \n",
       "A  15.658363  17.537313  19.753086  25.378788  19.590643   5.487805   \n",
       "D  16.725979  23.880597  25.308642  37.500000  25.730994  29.878049   \n",
       "B  24.911032  32.835821  27.160494   4.545455  16.959064  39.634146   \n",
       "C  28.825623  13.805970   7.716049  29.166667  21.052632   5.487805   \n",
       "\n",
       "          C6         C7         C8         C9  \n",
       "E  15.346535  26.334520  11.917098  11.551155  \n",
       "A  41.089109   7.473310  18.652850  28.712871  \n",
       "D  14.356436   6.761566   9.844560   4.620462  \n",
       "B  19.306931  30.960854  23.834197  29.042904  \n",
       "C   9.900990  28.469751  35.751295  26.072607  "
      ]
     },
     "execution_count": 6,
     "metadata": {},
     "output_type": "execute_result"
    }
   ],
   "source": [
    "sample_df_sorted = sample_df.sort_values('C0')\n",
    "sample_df_sorted"
   ]
  },
  {
   "cell_type": "code",
   "execution_count": 7,
   "metadata": {},
   "outputs": [
    {
     "data": {
      "image/png": "[encoded data removed]",
      "text/plain": [
       "<Figure size 432x288 with 1 Axes>"
      ]
     },
     "metadata": {
      "needs_background": "light"
     },
     "output_type": "display_data"
    }
   ],
   "source": [
    "fig, ax = plt.subplots()\n",
    "data_points = np.arange(len(sample_df_sorted.columns))\n",
    "bottom_data = pd.Series(np.zeros(len(sample_df_sorted.columns)), index=sample_df_sorted.columns.tolist())\n",
    "for i in range(len(sample_df_sorted.index)):\n",
    "    ax.bar(data_points, sample_df_sorted.iloc[i], bottom=bottom_data)\n",
    "    bottom_data += sample_df_sorted.iloc[i]\n",
    "    ax.set_xticks(data_points)\n",
    "    ax.set_xticklabels(sample_df_sorted.columns);"
   ]
  },
  {
   "cell_type": "code",
   "execution_count": 8,
   "metadata": {},
   "outputs": [
    {
     "data": {
      "text/html": [
       "<div>\n",
       "<style scoped>\n",
       "    .dataframe tbody tr th:only-of-type {\n",
       "        vertical-align: middle;\n",
       "    }\n",
       "\n",
       "    .dataframe tbody tr th {\n",
       "        vertical-align: top;\n",
       "    }\n",
       "\n",
       "    .dataframe thead th {\n",
       "        text-align: right;\n",
       "    }\n",
       "</style>\n",
       "<table border=\"1\" class=\"dataframe\">\n",
       "  <thead>\n",
       "    <tr style=\"text-align: right;\">\n",
       "      <th></th>\n",
       "      <th>C0</th>\n",
       "      <th>C1</th>\n",
       "      <th>C2</th>\n",
       "      <th>C3</th>\n",
       "      <th>C4</th>\n",
       "      <th>C5</th>\n",
       "      <th>C6</th>\n",
       "      <th>C7</th>\n",
       "      <th>C8</th>\n",
       "      <th>C9</th>\n",
       "    </tr>\n",
       "  </thead>\n",
       "  <tbody>\n",
       "    <tr>\n",
       "      <th>E</th>\n",
       "      <td>13.879004</td>\n",
       "      <td>11.940299</td>\n",
       "      <td>20.061728</td>\n",
       "      <td>3.409091</td>\n",
       "      <td>16.666667</td>\n",
       "      <td>19.512195</td>\n",
       "      <td>15.346535</td>\n",
       "      <td>26.334520</td>\n",
       "      <td>11.917098</td>\n",
       "      <td>11.551155</td>\n",
       "    </tr>\n",
       "    <tr>\n",
       "      <th>A</th>\n",
       "      <td>15.658363</td>\n",
       "      <td>17.537313</td>\n",
       "      <td>19.753086</td>\n",
       "      <td>25.378788</td>\n",
       "      <td>19.590643</td>\n",
       "      <td>5.487805</td>\n",
       "      <td>41.089109</td>\n",
       "      <td>7.473310</td>\n",
       "      <td>18.652850</td>\n",
       "      <td>28.712871</td>\n",
       "    </tr>\n",
       "    <tr>\n",
       "      <th>D</th>\n",
       "      <td>16.725979</td>\n",
       "      <td>23.880597</td>\n",
       "      <td>25.308642</td>\n",
       "      <td>37.500000</td>\n",
       "      <td>25.730994</td>\n",
       "      <td>29.878049</td>\n",
       "      <td>14.356436</td>\n",
       "      <td>6.761566</td>\n",
       "      <td>9.844560</td>\n",
       "      <td>4.620462</td>\n",
       "    </tr>\n",
       "    <tr>\n",
       "      <th>B</th>\n",
       "      <td>24.911032</td>\n",
       "      <td>32.835821</td>\n",
       "      <td>27.160494</td>\n",
       "      <td>4.545455</td>\n",
       "      <td>16.959064</td>\n",
       "      <td>39.634146</td>\n",
       "      <td>19.306931</td>\n",
       "      <td>30.960854</td>\n",
       "      <td>23.834197</td>\n",
       "      <td>29.042904</td>\n",
       "    </tr>\n",
       "    <tr>\n",
       "      <th>C</th>\n",
       "      <td>28.825623</td>\n",
       "      <td>13.805970</td>\n",
       "      <td>7.716049</td>\n",
       "      <td>29.166667</td>\n",
       "      <td>21.052632</td>\n",
       "      <td>5.487805</td>\n",
       "      <td>9.900990</td>\n",
       "      <td>28.469751</td>\n",
       "      <td>35.751295</td>\n",
       "      <td>26.072607</td>\n",
       "    </tr>\n",
       "  </tbody>\n",
       "</table>\n",
       "</div>"
      ],
      "text/plain": [
       "          C0         C1         C2         C3         C4         C5  \\\n",
       "E  13.879004  11.940299  20.061728   3.409091  16.666667  19.512195   \n",
       "A  15.658363  17.537313  19.753086  25.378788  19.590643   5.487805   \n",
       "D  16.725979  23.880597  25.308642  37.500000  25.730994  29.878049   \n",
       "B  24.911032  32.835821  27.160494   4.545455  16.959064  39.634146   \n",
       "C  28.825623  13.805970   7.716049  29.166667  21.052632   5.487805   \n",
       "\n",
       "          C6         C7         C8         C9  \n",
       "E  15.346535  26.334520  11.917098  11.551155  \n",
       "A  41.089109   7.473310  18.652850  28.712871  \n",
       "D  14.356436   6.761566   9.844560   4.620462  \n",
       "B  19.306931  30.960854  23.834197  29.042904  \n",
       "C   9.900990  28.469751  35.751295  26.072607  "
      ]
     },
     "metadata": {},
     "output_type": "display_data"
    },
    {
     "data": {
      "text/html": [
       "<div>\n",
       "<style scoped>\n",
       "    .dataframe tbody tr th:only-of-type {\n",
       "        vertical-align: middle;\n",
       "    }\n",
       "\n",
       "    .dataframe tbody tr th {\n",
       "        vertical-align: top;\n",
       "    }\n",
       "\n",
       "    .dataframe thead th {\n",
       "        text-align: right;\n",
       "    }\n",
       "</style>\n",
       "<table border=\"1\" class=\"dataframe\">\n",
       "  <thead>\n",
       "    <tr style=\"text-align: right;\">\n",
       "      <th></th>\n",
       "      <th>C0</th>\n",
       "      <th>C1</th>\n",
       "      <th>C2</th>\n",
       "      <th>C3</th>\n",
       "      <th>C4</th>\n",
       "      <th>C5</th>\n",
       "      <th>C6</th>\n",
       "      <th>C7</th>\n",
       "      <th>C8</th>\n",
       "      <th>C9</th>\n",
       "    </tr>\n",
       "  </thead>\n",
       "  <tbody>\n",
       "    <tr>\n",
       "      <th>Others</th>\n",
       "      <td>13.879004</td>\n",
       "      <td>11.940299</td>\n",
       "      <td>20.061728</td>\n",
       "      <td>3.409091</td>\n",
       "      <td>16.666667</td>\n",
       "      <td>19.512195</td>\n",
       "      <td>15.346535</td>\n",
       "      <td>26.334520</td>\n",
       "      <td>11.917098</td>\n",
       "      <td>11.551155</td>\n",
       "    </tr>\n",
       "    <tr>\n",
       "      <th>Ohters</th>\n",
       "      <td>15.658363</td>\n",
       "      <td>17.537313</td>\n",
       "      <td>19.753086</td>\n",
       "      <td>25.378788</td>\n",
       "      <td>19.590643</td>\n",
       "      <td>5.487805</td>\n",
       "      <td>41.089109</td>\n",
       "      <td>7.473310</td>\n",
       "      <td>18.652850</td>\n",
       "      <td>28.712871</td>\n",
       "    </tr>\n",
       "    <tr>\n",
       "      <th>D</th>\n",
       "      <td>16.725979</td>\n",
       "      <td>23.880597</td>\n",
       "      <td>25.308642</td>\n",
       "      <td>37.500000</td>\n",
       "      <td>25.730994</td>\n",
       "      <td>29.878049</td>\n",
       "      <td>14.356436</td>\n",
       "      <td>6.761566</td>\n",
       "      <td>9.844560</td>\n",
       "      <td>4.620462</td>\n",
       "    </tr>\n",
       "    <tr>\n",
       "      <th>B</th>\n",
       "      <td>24.911032</td>\n",
       "      <td>32.835821</td>\n",
       "      <td>27.160494</td>\n",
       "      <td>4.545455</td>\n",
       "      <td>16.959064</td>\n",
       "      <td>39.634146</td>\n",
       "      <td>19.306931</td>\n",
       "      <td>30.960854</td>\n",
       "      <td>23.834197</td>\n",
       "      <td>29.042904</td>\n",
       "    </tr>\n",
       "    <tr>\n",
       "      <th>C</th>\n",
       "      <td>28.825623</td>\n",
       "      <td>13.805970</td>\n",
       "      <td>7.716049</td>\n",
       "      <td>29.166667</td>\n",
       "      <td>21.052632</td>\n",
       "      <td>5.487805</td>\n",
       "      <td>9.900990</td>\n",
       "      <td>28.469751</td>\n",
       "      <td>35.751295</td>\n",
       "      <td>26.072607</td>\n",
       "    </tr>\n",
       "  </tbody>\n",
       "</table>\n",
       "</div>"
      ],
      "text/plain": [
       "               C0         C1         C2         C3         C4         C5  \\\n",
       "Others  13.879004  11.940299  20.061728   3.409091  16.666667  19.512195   \n",
       "Ohters  15.658363  17.537313  19.753086  25.378788  19.590643   5.487805   \n",
       "D       16.725979  23.880597  25.308642  37.500000  25.730994  29.878049   \n",
       "B       24.911032  32.835821  27.160494   4.545455  16.959064  39.634146   \n",
       "C       28.825623  13.805970   7.716049  29.166667  21.052632   5.487805   \n",
       "\n",
       "               C6         C7         C8         C9  \n",
       "Others  15.346535  26.334520  11.917098  11.551155  \n",
       "Ohters  41.089109   7.473310  18.652850  28.712871  \n",
       "D       14.356436   6.761566   9.844560   4.620462  \n",
       "B       19.306931  30.960854  23.834197  29.042904  \n",
       "C        9.900990  28.469751  35.751295  26.072607  "
      ]
     },
     "metadata": {},
     "output_type": "display_data"
    }
   ],
   "source": [
    "display(sample_df_sorted)\n",
    "df_new = sample_df_sorted.rename(index={'E':'Others','A':'Ohters'})\n",
    "display(df_new)"
   ]
  },
  {
   "cell_type": "code",
   "execution_count": 13,
   "metadata": {},
   "outputs": [],
   "source": [
    "def stackedbar_plot(df):\n",
    "    fig, ax = plt.subplots()\n",
    "    data_points = np.arange(len(df.columns))\n",
    "    bottom_data = pd.Series(np.zeros(len(df.columns)), index=df.columns.tolist())\n",
    "    for i in range(len(df.index)):\n",
    "        ax.bar(data_points, df.iloc[i], bottom=bottom_data)\n",
    "        bottom_data += df.iloc[i]\n",
    "        ax.set_xticks(data_points)\n",
    "        ax.set_xticklabels(df.columns)\n",
    "    hans, labs = ax.get_legend_handles_labels()\n",
    "    ax.legend(handles=hans, labels=labs, fontsize=8);"
   ]
  },
  {
   "cell_type": "code",
   "execution_count": 14,
   "metadata": {},
   "outputs": [
    {
     "name": "stderr",
     "output_type": "stream",
     "text": [
      "No handles with labels found to put in legend.\n"
     ]
    },
    {
     "data": {
      "image/png": "[encoded data removed]",
      "text/plain": [
       "<Figure size 432x288 with 1 Axes>"
      ]
     },
     "metadata": {
      "needs_background": "light"
     },
     "output_type": "display_data"
    }
   ],
   "source": [
    "stackedbar_plot(df_new)"
   ]
  },
  {
   "cell_type": "code",
   "execution_count": null,
   "metadata": {},
   "outputs": [],
   "source": []
  }
 ],
 "metadata": {
  "kernelspec": {
   "display_name": "Python 3",
   "language": "python",
   "name": "python3"
  },
  "language_info": {
   "codemirror_mode": {
    "name": "ipython",
    "version": 3
   },
   "file_extension": ".py",
   "mimetype": "text/x-python",
   "name": "python",
   "nbconvert_exporter": "python",
   "pygments_lexer": "ipython3",
   "version": "3.7.4"
  }
 },
 "nbformat": 4,
 "nbformat_minor": 2
}
